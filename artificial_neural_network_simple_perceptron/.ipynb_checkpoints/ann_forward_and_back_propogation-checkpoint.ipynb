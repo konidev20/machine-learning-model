{
 "cells": [
  {
   "cell_type": "code",
   "execution_count": 1,
   "metadata": {},
   "outputs": [],
   "source": [
    "import numpy as np"
   ]
  },
  {
   "cell_type": "code",
   "execution_count": 3,
   "metadata": {},
   "outputs": [
    {
     "name": "stdout",
     "output_type": "stream",
     "text": [
      "[[0.66666667 1.        ]\n",
      " [0.33333333 0.55555556]\n",
      " [1.         0.66666667]]\n"
     ]
    }
   ],
   "source": [
    "X = np.array(([2,9],[1,5],[3,6]),dtype=float)\n",
    "\n",
    "X = X / np.amax(X, axis = 0)\n",
    "\n",
    "print(X)"
   ]
  },
  {
   "cell_type": "code",
   "execution_count": 4,
   "metadata": {},
   "outputs": [],
   "source": [
    "y = np.array(([92],[86],[89]),dtype=float)"
   ]
  },
  {
   "cell_type": "code",
   "execution_count": 5,
   "metadata": {},
   "outputs": [],
   "source": [
    "y = y/100"
   ]
  },
  {
   "cell_type": "code",
   "execution_count": 6,
   "metadata": {},
   "outputs": [
    {
     "name": "stdout",
     "output_type": "stream",
     "text": [
      "y :  [[0.92]\n",
      " [0.86]\n",
      " [0.89]]\n"
     ]
    }
   ],
   "source": [
    "print (\"y : \",y)"
   ]
  },
  {
   "cell_type": "code",
   "execution_count": 7,
   "metadata": {},
   "outputs": [],
   "source": [
    "def sigmoid(x):\n",
    "    return 1/(1+np.exp(-x))\n",
    "\n",
    "def derivatives_sigmoid(x):\n",
    "    return x * (1 - x)"
   ]
  },
  {
   "cell_type": "code",
   "execution_count": 8,
   "metadata": {},
   "outputs": [],
   "source": [
    "epoch = 7000 #no. of epochs\n",
    "lr = 0.1 #learning rate\n",
    "\n",
    "input_neurons = 2 #number of nerons in the input layer\n",
    "hidden_neurons = 3 #number of neurons in the hidden layer\n",
    "output_neurons = 1 #number of output neurons\n",
    "\n",
    "wh = np.array([[0.7654,0.0234,0.9876],[0.4565,0.7612,0.0982]])\n",
    "bh = np.array([[0.0451],[0.0223],[0.0462]])\n",
    "\n",
    "wo = np.array([[0.9876],[0.9875],[0.6542]])\n",
    "bo = np.array([0.8564])"
   ]
  },
  {
   "cell_type": "code",
   "execution_count": 12,
   "metadata": {},
   "outputs": [
    {
     "name": "stdout",
     "output_type": "stream",
     "text": [
      "Input = \n",
      "[[0.66666667 1.        ]\n",
      " [0.33333333 0.55555556]\n",
      " [1.         0.66666667]]\n",
      "Actual = \n",
      "[[0.92]\n",
      " [0.86]\n",
      " [0.89]]\n",
      "Predicted = \n",
      "[[0.91998574]\n",
      " [0.86001164]\n",
      " [0.88999863]]\n"
     ]
    }
   ],
   "source": [
    "for i in range(epoch):\n",
    "    \n",
    "    #forward propogation\n",
    "    hin = np.dot(X,wh)\n",
    "    hin_p_b = hin + bh\n",
    "    hin_act = sigmoid(hin_p_b)\n",
    "    \n",
    "    out = np.dot(hin_act,wo)\n",
    "    out_p_b = out + bo\n",
    "    output = sigmoid(out_p_b)\n",
    "    \n",
    "    \n",
    "    #back propogation\n",
    "    error_output = y - output\n",
    "    output_gradient = derivatives_sigmoid(output)\n",
    "    delta_output = error_output * output_gradient\n",
    "    \n",
    "    error_hidden = delta_output.dot(wo.T)\n",
    "    hidden_layer_gradient = derivatives_sigmoid(hin_act)\n",
    "    delta_hidden_layer = error_hidden * hidden_layer_gradient\n",
    "    \n",
    "    #update the weights\n",
    "    wo += hin_act.T.dot(delta_output) * lr\n",
    "    wh += X.T.dot(delta_hidden_layer) * lr\n",
    "\n",
    "print(\"Input = \\n\"+str(X))\n",
    "print(\"Actual = \\n\"+str(y))\n",
    "print(\"Predicted = \\n\"+str(output))\n"
   ]
  },
  {
   "cell_type": "code",
   "execution_count": null,
   "metadata": {},
   "outputs": [],
   "source": []
  }
 ],
 "metadata": {
  "kernelspec": {
   "display_name": "Python 3",
   "language": "python",
   "name": "python3"
  },
  "language_info": {
   "codemirror_mode": {
    "name": "ipython",
    "version": 3
   },
   "file_extension": ".py",
   "mimetype": "text/x-python",
   "name": "python",
   "nbconvert_exporter": "python",
   "pygments_lexer": "ipython3",
   "version": "3.7.4"
  }
 },
 "nbformat": 4,
 "nbformat_minor": 2
}
