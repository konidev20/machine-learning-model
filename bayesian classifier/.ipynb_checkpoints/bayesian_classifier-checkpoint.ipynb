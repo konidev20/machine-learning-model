{
 "cells": [
  {
   "cell_type": "code",
   "execution_count": 1,
   "metadata": {},
   "outputs": [],
   "source": [
    "import csv\n",
    "import math"
   ]
  },
  {
   "cell_type": "code",
   "execution_count": 2,
   "metadata": {},
   "outputs": [],
   "source": [
    "def load_data(filename):\n",
    "    lines  = csv.reader(open(filename))\n",
    "    dataset = list(lines)\n",
    "    for i in range(0,len(dataset)):\n",
    "        dataset[i] = [float(x) for x in dataset[i]]\n",
    "    \n",
    "    return dataset"
   ]
  },
  {
   "cell_type": "code",
   "execution_count": 3,
   "metadata": {},
   "outputs": [],
   "source": [
    "def split(dataset,ratio):\n",
    "    import random\n",
    "    length = int(len(dataset) * ratio)\n",
    "    train_set = []\n",
    "    test_set = list(dataset)\n",
    "    i = 0\n",
    "    while len(train_set) < length:\n",
    "        train_set.append(test_set.pop(i))\n",
    "    return [train_set,test_set]"
   ]
  },
  {
   "cell_type": "code",
   "execution_count": 4,
   "metadata": {},
   "outputs": [],
   "source": [
    "def seperate_by_class(dataset):\n",
    "    classes = {}\n",
    "    for i in range(len(dataset)):\n",
    "        vector = dataset[i]\n",
    "        if vector[-1] not in classes:\n",
    "            classes[vector[-1]] = []\n",
    "        classes[vector[-1]].append(vector)\n",
    "    return classes"
   ]
  },
  {
   "cell_type": "code",
   "execution_count": 5,
   "metadata": {},
   "outputs": [],
   "source": [
    "def divide(x,y):\n",
    "    if y == 0:\n",
    "        return 0\n",
    "    else:\n",
    "        return x / y"
   ]
  },
  {
   "cell_type": "code",
   "execution_count": 20,
   "metadata": {},
   "outputs": [],
   "source": [
    "def mean(numbers):\n",
    "    return divide(sum(numbers),float(len(numbers)))"
   ]
  },
  {
   "cell_type": "code",
   "execution_count": 7,
   "metadata": {},
   "outputs": [],
   "source": [
    "def stdev(numbers):\n",
    "    avg = mean(numbers)\n",
    "    var = divide(sum([pow(x-avg,2) for x in numbers]),float(len(numbers)-1))\n",
    "    return math.sqrt(var)"
   ]
  },
  {
   "cell_type": "code",
   "execution_count": 8,
   "metadata": {},
   "outputs": [],
   "source": [
    "def summarize(dataset):\n",
    "    summaries = [(mean(attribute),stdev(attribute)) for attribute in zip(*dataset)]\n",
    "    del summaries[-1]\n",
    "    return summaries"
   ]
  },
  {
   "cell_type": "code",
   "execution_count": 9,
   "metadata": {},
   "outputs": [],
   "source": [
    "def summarize_by_class(dataset):\n",
    "    classified = seperate_by_class(dataset)\n",
    "    summaries = {}\n",
    "    for classValue, instances in classified.items():\n",
    "        summaries[classValue] = summarize(instances)\n",
    "    return summaries"
   ]
  },
  {
   "cell_type": "code",
   "execution_count": 27,
   "metadata": {},
   "outputs": [],
   "source": [
    "def probability(x,mean,stdev):\n",
    "    e = math.exp(-divide(math.pow(x-mean,2),(2 * math.pow(stdev,2))))\n",
    "    final = divide(1,math.sqrt(math.sqrt(2*math.pi) * stdev)) * e\n",
    "    return final"
   ]
  },
  {
   "cell_type": "code",
   "execution_count": 11,
   "metadata": {},
   "outputs": [],
   "source": [
    "def calculate_class_probability(summaries,inputVector):\n",
    "    probabilities = {}\n",
    "    for classValue, summaries in summaries.items():\n",
    "        probabilities[classValue] = 1\n",
    "        for i in range(len(summaries)):\n",
    "            mean,stdev = summaries[i]\n",
    "            x = inputVector[i]\n",
    "            probabilities[classValue] *= probability(x,mean,stdev)\n",
    "    return probabilities"
   ]
  },
  {
   "cell_type": "code",
   "execution_count": 29,
   "metadata": {},
   "outputs": [],
   "source": [
    "def predict(summaries,inputVector):\n",
    "    probabilities = calculate_class_probability(summaries,inputVector)\n",
    "    bestLabel, bestProb = None, -1\n",
    "    for classValue, probability in probabilities.items():\n",
    "        if bestLabel is None or probability > bestProb:\n",
    "            bestLabel = classValue\n",
    "            bestProb = probability\n",
    "    return bestLabel"
   ]
  },
  {
   "cell_type": "code",
   "execution_count": 23,
   "metadata": {},
   "outputs": [],
   "source": [
    "def getPredictions(summaries, testSet):\n",
    "    predictions = []\n",
    "    for i in range(len(testSet)):\n",
    "        result = predict(summaries, testSet[i])\n",
    "        predictions.append(result)\n",
    "    return predictions"
   ]
  },
  {
   "cell_type": "code",
   "execution_count": 31,
   "metadata": {},
   "outputs": [],
   "source": [
    "def getAccuracy(testSet, predictions):\n",
    "    correct = 0\n",
    "    for i in range(len(testSet)):\n",
    "        if testSet[i][-1] == predictions[i]:\n",
    "            correct += 1\n",
    "    accuracy = divide(correct,float(len(testSet))) * 100.0\n",
    "    return accuracy"
   ]
  },
  {
   "cell_type": "code",
   "execution_count": 32,
   "metadata": {},
   "outputs": [],
   "source": [
    "def main():\n",
    "    filename = 'dataset/data.csv'\n",
    "    splitRatio = 0.80\n",
    "    dataset = load_data(filename)\n",
    "\n",
    "    #print(\"Dataset :\",dataset)\n",
    "    trainingSet, testSet = split(dataset, splitRatio)\n",
    "    print('Split {0} rows into'.format(len(dataset)))\n",
    "    print('Number of Training data: ' + (repr(len(trainingSet))))\n",
    "    print('Number of Test Data: ' + (repr(len(testSet))))\n",
    "    print(\"\\nThe values assumed for the concept learning attributes are\\n\")\n",
    "    print(\"OUTLOOK=> Sunny=0 Overcast=1 Rain=2\\nTEMPERATURE=> Hot=0 Mild=1 Cool=2\\nHUMIDITY=> High=0 Normal=1\\nWIND=> Weak=0 Strong=1\")\n",
    "    print(\"TARGET CONCEPT:PLAY TENNIS=> Yes=10 No=5\")\n",
    "    print(\"\\nThe Training set are:\")\n",
    "    for x in trainingSet:\n",
    "        print(x)\n",
    "    print(\"\\nThe Test data set are:\")\n",
    "    for x in testSet:\n",
    "        print(x)\n",
    "    print(\"\\n\")\n",
    "    # prepare model\n",
    "    summaries = summarize_by_class(trainingSet)\n",
    "    # test model\n",
    "    predictions = getPredictions(summaries, testSet)\n",
    "    actual = []\n",
    "    for i in range(len(testSet)):\n",
    "        vector = testSet[i]\n",
    "        actual.append(vector[-1])\n",
    "    # Since there are five attribute values, each attribute constitutes to 20% accuracy. So if all attributes match with predictions then 100% accuracy\n",
    "    print('Actual values: {0}%'.format(actual))\n",
    "    print('Predictions: {0}%'.format(predictions))\n",
    "    accuracy = getAccuracy(testSet, predictions)\n",
    "    print('Accuracy: {0}%'.format(accuracy))"
   ]
  },
  {
   "cell_type": "code",
   "execution_count": 33,
   "metadata": {},
   "outputs": [
    {
     "name": "stdout",
     "output_type": "stream",
     "text": [
      "Split 14 rows into\n",
      "Number of Training data: 11\n",
      "Number of Test Data: 3\n",
      "\n",
      "The values assumed for the concept learning attributes are\n",
      "\n",
      "OUTLOOK=> Sunny=0 Overcast=1 Rain=2\n",
      "TEMPERATURE=> Hot=0 Mild=1 Cool=2\n",
      "HUMIDITY=> High=0 Normal=1\n",
      "WIND=> Weak=0 Strong=1\n",
      "TARGET CONCEPT:PLAY TENNIS=> Yes=10 No=5\n",
      "\n",
      "The Training set are:\n",
      "[0.0, 0.0, 0.0, 0.0, 5.0]\n",
      "[0.0, 0.0, 0.0, 1.0, 5.0]\n",
      "[1.0, 0.0, 0.0, 0.0, 10.0]\n",
      "[2.0, 1.0, 0.0, 0.0, 10.0]\n",
      "[2.0, 2.0, 1.0, 0.0, 10.0]\n",
      "[2.0, 2.0, 1.0, 1.0, 5.0]\n",
      "[1.0, 2.0, 1.0, 1.0, 10.0]\n",
      "[0.0, 1.0, 0.0, 0.0, 5.0]\n",
      "[0.0, 2.0, 1.0, 0.0, 10.0]\n",
      "[2.0, 1.0, 1.0, 0.0, 10.0]\n",
      "[0.0, 1.0, 1.0, 1.0, 10.0]\n",
      "\n",
      "The Test data set are:\n",
      "[1.0, 1.0, 0.0, 1.0, 10.0]\n",
      "[1.0, 0.0, 1.0, 0.0, 10.0]\n",
      "[2.0, 1.0, 0.0, 1.0, 5.0]\n",
      "\n",
      "\n",
      "Actual values: [10.0, 10.0, 5.0]%\n",
      "Predictions: [5.0, 10.0, 5.0]%\n",
      "Accuracy: 66.66666666666666%\n"
     ]
    }
   ],
   "source": [
    "main()"
   ]
  }
 ],
 "metadata": {
  "kernelspec": {
   "display_name": "Python 3",
   "language": "python",
   "name": "python3"
  },
  "language_info": {
   "codemirror_mode": {
    "name": "ipython",
    "version": 3
   },
   "file_extension": ".py",
   "mimetype": "text/x-python",
   "name": "python",
   "nbconvert_exporter": "python",
   "pygments_lexer": "ipython3",
   "version": "3.7.4"
  }
 },
 "nbformat": 4,
 "nbformat_minor": 2
}
