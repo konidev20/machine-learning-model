{
 "cells": [
  {
   "cell_type": "code",
   "execution_count": 1,
   "metadata": {},
   "outputs": [],
   "source": [
    "import csv\n",
    "import math"
   ]
  },
  {
   "cell_type": "code",
   "execution_count": 2,
   "metadata": {},
   "outputs": [],
   "source": [
    "def load_data(filename):\n",
    "    with open(filename,'r') as dataset:\n",
    "        buffer = csv.reader(dataset)\n",
    "        data = list(buffer)\n",
    "        for i in range(len(data)):\n",
    "            data[i] = [float(x) for x in data[i]]\n",
    "    return data"
   ]
  },
  {
   "cell_type": "code",
   "execution_count": 3,
   "metadata": {},
   "outputs": [],
   "source": [
    "def divide(x,y):\n",
    "    if y == 0:\n",
    "        return 0\n",
    "    else:\n",
    "        return x / y"
   ]
  },
  {
   "cell_type": "code",
   "execution_count": 4,
   "metadata": {},
   "outputs": [],
   "source": [
    "def mean(numbers):\n",
    "    return sum(numbers)/len(numbers)"
   ]
  },
  {
   "cell_type": "code",
   "execution_count": 23,
   "metadata": {},
   "outputs": [],
   "source": [
    "def stddev(numbers):\n",
    "    avg = mean(numbers)\n",
    "    var = divide(sum([math.pow((x-avg),2) for x in numbers]),len(numbers)-1)\n",
    "    return math.sqrt(var)"
   ]
  },
  {
   "cell_type": "code",
   "execution_count": 6,
   "metadata": {},
   "outputs": [],
   "source": [
    "def separate_by_class(dataset):\n",
    "    classified = {}\n",
    "    for row in dataset:\n",
    "        if row[-1] not in classified:\n",
    "            classified[row[-1]] = []\n",
    "        classified[row[-1]].append(row)\n",
    "    return classified"
   ]
  },
  {
   "cell_type": "code",
   "execution_count": 19,
   "metadata": {},
   "outputs": [],
   "source": [
    "def split_data(dataset,train_ratio):\n",
    "    length = int(len(dataset)*train_ratio)\n",
    "    test = list(dataset)\n",
    "    train = []\n",
    "    while len(train) < length:\n",
    "        train.append(test.pop(0))\n",
    "    return (train,test)"
   ]
  },
  {
   "cell_type": "code",
   "execution_count": 8,
   "metadata": {},
   "outputs": [],
   "source": [
    "def summarize(dataset):\n",
    "    summaries = [(mean(a),stddev(a)) for a in zip(*dataset)]\n",
    "    del summaries[-1]\n",
    "    return summaries"
   ]
  },
  {
   "cell_type": "code",
   "execution_count": 21,
   "metadata": {},
   "outputs": [],
   "source": [
    "def summarize_by_class(dataset):\n",
    "    classified = separate_by_class(dataset)\n",
    "    summaries = {}\n",
    "    for c,i in classified.items():\n",
    "        summaries[c] = summarize(i)\n",
    "    return summaries"
   ]
  },
  {
   "cell_type": "code",
   "execution_count": 25,
   "metadata": {},
   "outputs": [],
   "source": [
    "def probability(x,mean,stddev):\n",
    "    e = math.exp(-1 * divide(math.pow((x-mean),2),(2*(math.pow(stddev,2)))))\n",
    "    final = divide(-1,math.sqrt(2*stddev*math.pi)) * e\n",
    "    return final"
   ]
  },
  {
   "cell_type": "code",
   "execution_count": 11,
   "metadata": {},
   "outputs": [],
   "source": [
    "def calculate_class_probabilities(summaries,instance):\n",
    "    probabilities = {}\n",
    "    for classValue,summaries in summaries.items():\n",
    "        probabilities[classValue] = 1\n",
    "        for i in range(len(summaries)):\n",
    "            mean,stddev = summaries[i]\n",
    "            x = instance[i]\n",
    "            probabilities[classValue] *= probability(x,mean,stddev)\n",
    "    return probabilities"
   ]
  },
  {
   "cell_type": "code",
   "execution_count": 12,
   "metadata": {},
   "outputs": [],
   "source": [
    "def predict(summaries,instance):\n",
    "    probabilities = calculate_class_probabilities(summaries,instance)\n",
    "    bestLabel,bestProb = None,-1\n",
    "    for classValue,probability in probabilities.items():\n",
    "        if probability > bestProb or bestLabel == None:\n",
    "            bestLabel = classValue\n",
    "            bestProb = probability\n",
    "    return bestLabel"
   ]
  },
  {
   "cell_type": "code",
   "execution_count": 13,
   "metadata": {},
   "outputs": [],
   "source": [
    "def get_predictions(summaries,test):\n",
    "    predictions = []\n",
    "    for i in range(len(test)):\n",
    "        r = predict(summaries,test[i])\n",
    "        predictions.append(r)\n",
    "    return predictions"
   ]
  },
  {
   "cell_type": "code",
   "execution_count": 29,
   "metadata": {},
   "outputs": [],
   "source": [
    "def accuracy(predictions,test):\n",
    "    correct = 0\n",
    "    for i in range(len(test)):\n",
    "        if test[i][-1] == predictions[i]:\n",
    "            correct += 1\n",
    "    return divide(correct,float(len(test))) * 100.0"
   ]
  },
  {
   "cell_type": "code",
   "execution_count": 30,
   "metadata": {},
   "outputs": [],
   "source": [
    "dataset = load_data(\"dataset/data.csv\")\n",
    "\n",
    "train,test = split_data(dataset,train_ratio = 0.7)\n",
    "\n",
    "summaries = summarize_by_class(train)\n",
    "\n",
    "predictions = get_predictions(summaries,test)\n",
    "\n",
    "accuracy = accuracy(predictions,test)\n"
   ]
  },
  {
   "cell_type": "code",
   "execution_count": 31,
   "metadata": {},
   "outputs": [
    {
     "data": {
      "text/plain": [
       "60.0"
      ]
     },
     "execution_count": 31,
     "metadata": {},
     "output_type": "execute_result"
    }
   ],
   "source": [
    "accuracy"
   ]
  },
  {
   "cell_type": "code",
   "execution_count": 32,
   "metadata": {},
   "outputs": [],
   "source": [
    "actual = [r[-1] for r in test ]"
   ]
  },
  {
   "cell_type": "code",
   "execution_count": 33,
   "metadata": {},
   "outputs": [
    {
     "data": {
      "text/plain": [
       "[10.0, 10.0, 10.0, 10.0, 5.0]"
      ]
     },
     "execution_count": 33,
     "metadata": {},
     "output_type": "execute_result"
    }
   ],
   "source": [
    "actual"
   ]
  },
  {
   "cell_type": "code",
   "execution_count": 34,
   "metadata": {},
   "outputs": [
    {
     "data": {
      "text/plain": [
       "[10.0, 5.0, 5.0, 10.0, 5.0]"
      ]
     },
     "execution_count": 34,
     "metadata": {},
     "output_type": "execute_result"
    }
   ],
   "source": [
    "predictions"
   ]
  },
  {
   "cell_type": "code",
   "execution_count": null,
   "metadata": {},
   "outputs": [],
   "source": []
  }
 ],
 "metadata": {
  "kernelspec": {
   "display_name": "Python 3",
   "language": "python",
   "name": "python3"
  },
  "language_info": {
   "codemirror_mode": {
    "name": "ipython",
    "version": 3
   },
   "file_extension": ".py",
   "mimetype": "text/x-python",
   "name": "python",
   "nbconvert_exporter": "python",
   "pygments_lexer": "ipython3",
   "version": "3.7.4"
  }
 },
 "nbformat": 4,
 "nbformat_minor": 2
}
