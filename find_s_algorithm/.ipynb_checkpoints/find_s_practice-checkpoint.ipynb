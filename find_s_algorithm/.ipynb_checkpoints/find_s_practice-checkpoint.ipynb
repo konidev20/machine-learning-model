{
 "cells": [
  {
   "cell_type": "code",
   "execution_count": 1,
   "metadata": {},
   "outputs": [],
   "source": [
    "import csv"
   ]
  },
  {
   "cell_type": "code",
   "execution_count": 2,
   "metadata": {},
   "outputs": [],
   "source": [
    "with open('dataset/data.csv') as dataset:\n",
    "    buffer = csv.reader(dataset)\n",
    "    data = []\n",
    "    for row in buffer:\n",
    "        data.append(row)"
   ]
  },
  {
   "cell_type": "code",
   "execution_count": 3,
   "metadata": {},
   "outputs": [],
   "source": [
    "n = len(data[0])-1 #no of attributes"
   ]
  },
  {
   "cell_type": "code",
   "execution_count": 4,
   "metadata": {},
   "outputs": [
    {
     "name": "stdout",
     "output_type": "stream",
     "text": [
      "The initial hypothesis h[0] ['phi', 'phi', 'phi', 'phi', 'phi', 'phi']\n"
     ]
    }
   ],
   "source": [
    "h = ['phi'] * n\n",
    "print(\"The initial hypothesis h[{0}]\".format(0),h)"
   ]
  },
  {
   "cell_type": "code",
   "execution_count": 5,
   "metadata": {},
   "outputs": [
    {
     "name": "stdout",
     "output_type": "stream",
     "text": [
      "Considering the first example h[1] ['Sunny', 'Warm', 'Normal', 'Strong', 'Warm', 'Same']\n"
     ]
    }
   ],
   "source": [
    "for i in range(n):\n",
    "    h[i] = data[0][i]\n",
    "print(\"Considering the first example h[{0}]\".format(1),h)"
   ]
  },
  {
   "cell_type": "code",
   "execution_count": 6,
   "metadata": {},
   "outputs": [
    {
     "name": "stdout",
     "output_type": "stream",
     "text": [
      "Training Example No. 2  ['Sunny', 'Warm', 'High', 'Strong', 'Warm', 'Same']\n",
      "h[2] =  ['Sunny', 'Warm', '?', 'Strong', 'Warm', 'Same']\n",
      "Training Example No. 3  ['Rainy', 'Cold', 'High', 'Strong', 'Warm', 'Change']\n",
      "Negative Example\n",
      "Training Example No. 4  ['Sunny', 'Warm', 'High', 'Strong', 'Cool', 'Change']\n",
      "h[4] =  ['Sunny', 'Warm', '?', 'Strong', '?', '?']\n"
     ]
    }
   ],
   "source": [
    "for i in range(1,len(data)):\n",
    "    print(\"Training Example No. {0} \".format(i+1),data[i][:n])\n",
    "    if data[i][n] == \"Yes\":\n",
    "        for j in range(n):\n",
    "            if h[j] != data[i][j]:\n",
    "                h[j] = '?'\n",
    "            else:\n",
    "                h[j] = data[i][j]\n",
    "        print(\"h[{0}] = \".format(i+1),h)\n",
    "    else:\n",
    "        print(\"Negative Example\")"
   ]
  },
  {
   "cell_type": "code",
   "execution_count": 7,
   "metadata": {},
   "outputs": [
    {
     "name": "stdout",
     "output_type": "stream",
     "text": [
      "The maximally specific hypothesis =  ['Sunny', 'Warm', '?', 'Strong', '?', '?']\n"
     ]
    }
   ],
   "source": [
    "print(\"The maximally specific hypothesis = \",h)"
   ]
  },
  {
   "cell_type": "code",
   "execution_count": null,
   "metadata": {},
   "outputs": [],
   "source": []
  }
 ],
 "metadata": {
  "kernelspec": {
   "display_name": "Python 3",
   "language": "python",
   "name": "python3"
  },
  "language_info": {
   "codemirror_mode": {
    "name": "ipython",
    "version": 3
   },
   "file_extension": ".py",
   "mimetype": "text/x-python",
   "name": "python",
   "nbconvert_exporter": "python",
   "pygments_lexer": "ipython3",
   "version": "3.7.4"
  }
 },
 "nbformat": 4,
 "nbformat_minor": 2
}
