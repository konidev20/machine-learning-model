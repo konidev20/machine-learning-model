{
 "cells": [
  {
   "cell_type": "code",
   "execution_count": 1,
   "metadata": {},
   "outputs": [],
   "source": [
    "import numpy as np\n",
    "import math\n",
    "import csv"
   ]
  },
  {
   "cell_type": "code",
   "execution_count": 2,
   "metadata": {},
   "outputs": [],
   "source": [
    "class Node:\n",
    "    def __init__(self,attribute):\n",
    "        self.attribute = attribute\n",
    "        self.children = []\n",
    "        self.answer = \"\""
   ]
  },
  {
   "cell_type": "code",
   "execution_count": 3,
   "metadata": {},
   "outputs": [],
   "source": [
    "def read_data(filename):\n",
    "    with open(filename) as dataset:\n",
    "        buffer = csv.reader(dataset)\n",
    "        headers = next(buffer)\n",
    "        data = []\n",
    "        for row in buffer:\n",
    "            data.append(row)  \n",
    "        return (headers,data)"
   ]
  },
  {
   "cell_type": "code",
   "execution_count": 4,
   "metadata": {},
   "outputs": [],
   "source": [
    "def subtables(data,col,delete):\n",
    "    cd = [row[col] for row in data] #column values \n",
    "    ucav = list(set(cd)) #unique column attribute values\n",
    "    ucav_data = {} #data corresponding to the unique values\n",
    "    \n",
    "    for av in ucav:\n",
    "        ucav_data[av] = [row for row in data if row[col]==av]\n",
    "        \n",
    "    if delete:\n",
    "        for row in data:\n",
    "            row.pop(col)\n",
    "    \n",
    "    return ucav,ucav_data"
   ]
  },
  {
   "cell_type": "code",
   "execution_count": 5,
   "metadata": {},
   "outputs": [],
   "source": [
    "def entropy(S):\n",
    "    last = list(set(S))\n",
    "    if len(last) == 1:\n",
    "        return 0\n",
    "    entropy = {a : sum([1 for i in S if i == a])/(len(S)*1.0) for a in last}\n",
    "    \n",
    "    total_entropy = 0\n",
    "    for e in entropy.values():\n",
    "        total_entropy += -1 * e * math.log(e,2)\n",
    "    \n",
    "    return total_entropy"
   ]
  },
  {
   "cell_type": "code",
   "execution_count": 6,
   "metadata": {},
   "outputs": [],
   "source": [
    "def compute_gain(data,col):\n",
    "    attr,attr_records = subtables(data,col,delete=False)\n",
    "    \n",
    "    data_size = len(data)\n",
    "    entropies = [0] * len(attr)\n",
    "    ratio = [0] * len(attr)\n",
    "    \n",
    "    total_entropy = entropy([row[-1] for row in data]) #entropy of entire dataset\n",
    "    for x in range(len(attr)):\n",
    "        ratio[x] = len(attr_records[attr[x]]) / (data_size*1.0)\n",
    "        entropies[x] = entropy([a[-1] for a in attr_records[attr[x]]])\n",
    "        total_entropy -= ratio[x]*entropies[x]\n",
    "    \n",
    "    return total_entropy"
   ]
  },
  {
   "cell_type": "code",
   "execution_count": 7,
   "metadata": {},
   "outputs": [],
   "source": [
    "def create_tree(data,features):\n",
    "    target_column = [row[-1] for row in data]\n",
    "    if (len(set(target_column))) == 1: #if all the values are the same\n",
    "        node = Node(\"\")\n",
    "        node.answer = target_column[0]\n",
    "        return node\n",
    "    na = len(data[0])-1 #number of attributes\n",
    "    gains = [0] * na\n",
    "    for col in range(na):\n",
    "        gains[col] = compute_gain(data,col) #calculate gain for each attribute\n",
    "    split=gains.index(max(gains))\n",
    "    node = Node(features[split])\n",
    "    f = features[:split] + features[split+1:]\n",
    "    attr,attr_records = subtables(data,split,delete=True)\n",
    "    for x in range(len(attr)):\n",
    "        child = create_tree(attr_records[attr[x]],f)\n",
    "        node.children.append((attr[x],child))\n",
    "    return node"
   ]
  },
  {
   "cell_type": "code",
   "execution_count": 8,
   "metadata": {},
   "outputs": [],
   "source": [
    "def print_tree(node,level):\n",
    "    if node.answer!=\"\":\n",
    "        print(\"  \"*level,node.answer)\n",
    "        return\n",
    "    \n",
    "    print(\"  \"*level,node.attribute)\n",
    "    for value,n in node.children:\n",
    "        print(\"  \"*(level+1),value)\n",
    "        print_tree(n,level+2)"
   ]
  },
  {
   "cell_type": "code",
   "execution_count": 9,
   "metadata": {},
   "outputs": [],
   "source": [
    "def classify(node,x_test,features):\n",
    "    if node.answer!=\"\":\n",
    "        print(node.answer)\n",
    "        return\n",
    "    pos=features.index(node.attribute)\n",
    "    for value, n in node.children:\n",
    "        if x_test[pos]==value:\n",
    "            classify(n,x_test,features)"
   ]
  },
  {
   "cell_type": "code",
   "execution_count": 10,
   "metadata": {},
   "outputs": [
    {
     "name": "stdout",
     "output_type": "stream",
     "text": [
      "The decision tree for the dataset using ID3 algorithm is\n",
      " Outlook\n",
      "   rain\n",
      "     Wind\n",
      "       weak\n",
      "         yes\n",
      "       strong\n",
      "         no\n",
      "   overcast\n",
      "     yes\n",
      "   sunny\n",
      "     Humidity\n",
      "       normal\n",
      "         yes\n",
      "       high\n",
      "         no\n",
      "The test instance: ['rain', 'cool', 'normal', 'strong']\n",
      "The label for test instance:   no\n",
      "The test instance: ['sunny', 'mild', 'normal', 'strong']\n",
      "The label for test instance:   yes\n"
     ]
    }
   ],
   "source": [
    "features,dataset=read_data(\"dataset/id3.csv\")\n",
    "node1=create_tree(dataset,features)\n",
    "\n",
    "print(\"The decision tree for the dataset using ID3 algorithm is\")\n",
    "print_tree(node1,0)\n",
    "\n",
    "features,testdata=read_data(\"dataset/id3_test.csv\")\n",
    "\n",
    "for xtest in testdata:\n",
    "    print(\"The test instance:\",xtest)\n",
    "    print(\"The label for test instance:\",end=\"   \")\n",
    "    classify(node1,xtest,features)"
   ]
  }
 ],
 "metadata": {
  "kernelspec": {
   "display_name": "Python 3",
   "language": "python",
   "name": "python3"
  },
  "language_info": {
   "codemirror_mode": {
    "name": "ipython",
    "version": 3
   },
   "file_extension": ".py",
   "mimetype": "text/x-python",
   "name": "python",
   "nbconvert_exporter": "python",
   "pygments_lexer": "ipython3",
   "version": "3.7.4"
  }
 },
 "nbformat": 4,
 "nbformat_minor": 2
}
