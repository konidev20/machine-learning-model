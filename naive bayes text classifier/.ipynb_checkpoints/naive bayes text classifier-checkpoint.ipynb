{
 "cells": [
  {
   "cell_type": "code",
   "execution_count": 17,
   "metadata": {},
   "outputs": [],
   "source": [
    "import pandas as pd"
   ]
  },
  {
   "cell_type": "code",
   "execution_count": 18,
   "metadata": {},
   "outputs": [],
   "source": [
    "#Load the Dataset from the csv file given\n",
    "\n",
    "text = pd.read_csv('dataset/data.csv',names=['message','label']) #message and label are the column names\n",
    "\n",
    "text['labelnum'] = text.label.map({'pos':1,'neg':0}) #convert positive = 1 and negative = 0, boolean representation"
   ]
  },
  {
   "cell_type": "code",
   "execution_count": 19,
   "metadata": {},
   "outputs": [],
   "source": [
    "M = text.message;\n",
    "L = text.labelnum;\n",
    "\n",
    "#Split the dataset into train and test sets\n",
    "from sklearn.model_selection import train_test_split\n",
    "xtrain,xtest,ytrain,ytest = train_test_split(M,L)"
   ]
  },
  {
   "cell_type": "code",
   "execution_count": 30,
   "metadata": {},
   "outputs": [],
   "source": [
    "from sklearn.feature_extraction.text import CountVectorizer\n",
    "vectorizer = CountVectorizer()\n",
    "\n",
    "#construct the document term matrix\n",
    "xtrain_dtm = vectorizer.fit_transform(xtrain)\n",
    "xtest_dtm = vectorizer.transform(xtest)"
   ]
  },
  {
   "cell_type": "code",
   "execution_count": 31,
   "metadata": {},
   "outputs": [],
   "source": [
    "df = pd.DataFrame(xtrain_dtm.toarray(),columns=vectorizer.get_feature_names())"
   ]
  },
  {
   "cell_type": "code",
   "execution_count": 34,
   "metadata": {},
   "outputs": [],
   "source": [
    "from sklearn.naive_bayes import MultinomialNB\n",
    "clf = MultinomialNB().fit(xtrain_dtm,ytrain)\n",
    "\n",
    "predicted = clf.predict(xtest_dtm)"
   ]
  },
  {
   "cell_type": "code",
   "execution_count": 35,
   "metadata": {},
   "outputs": [
    {
     "data": {
      "text/plain": [
       "array([0, 0, 1, 0, 0], dtype=int64)"
      ]
     },
     "execution_count": 35,
     "metadata": {},
     "output_type": "execute_result"
    }
   ],
   "source": [
    "predicted"
   ]
  },
  {
   "cell_type": "code",
   "execution_count": 36,
   "metadata": {},
   "outputs": [
    {
     "name": "stdout",
     "output_type": "stream",
     "text": [
      "Accuracy =  0.4\n",
      "Precision =  1.0\n",
      "Recall =  0.25\n",
      "Confusion Matrix =  [[1 0]\n",
      " [3 1]]\n"
     ]
    }
   ],
   "source": [
    "#calculate the accuracy, precision and the recall\n",
    "from sklearn import metrics\n",
    "print(\"Accuracy = \",metrics.accuracy_score(ytest,predicted))\n",
    "print(\"Precision = \",metrics.precision_score(ytest,predicted))\n",
    "print(\"Recall = \",metrics.recall_score(ytest,predicted))\n",
    "print(\"Confusion Matrix = \",metrics.confusion_matrix(ytest,predicted))"
   ]
  }
 ],
 "metadata": {
  "kernelspec": {
   "display_name": "Python 3",
   "language": "python",
   "name": "python3"
  },
  "language_info": {
   "codemirror_mode": {
    "name": "ipython",
    "version": 3
   },
   "file_extension": ".py",
   "mimetype": "text/x-python",
   "name": "python",
   "nbconvert_exporter": "python",
   "pygments_lexer": "ipython3",
   "version": "3.7.4"
  }
 },
 "nbformat": 4,
 "nbformat_minor": 2
}
